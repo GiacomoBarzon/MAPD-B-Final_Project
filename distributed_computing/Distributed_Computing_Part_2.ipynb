{
 "cells": [
  {
   "cell_type": "markdown",
   "metadata": {},
   "source": [
    "# Part 2\n",
    "\n",
    "## Which are the worst and best represented countries in the research?"
   ]
  },
  {
   "cell_type": "markdown",
   "metadata": {},
   "source": [
    "In this section we convert the documents into a usable DataFrame in order to figure out the countries that are most and less active in the research.<br>\n",
    "\n",
    "We do this by looking the country of the authors and the universities (affiliations).<br>\n"
   ]
  },
  {
   "cell_type": "code",
   "execution_count": 2,
   "metadata": {},
   "outputs": [],
   "source": [
    "from dask.distributed import Client, LocalCluster, progress\n",
    "import dask.bag as db\n",
    "import dask\n",
    "\n",
    "import json\n",
    "import re\n",
    "\n",
    "import pandas as pd\n",
    "import matplotlib.pyplot as plt\n",
    "import numpy as np"
   ]
  },
  {
   "cell_type": "markdown",
   "metadata": {},
   "source": [
    "### 3.2.1 Convert the documents in a usable DataFrame data structure"
   ]
  },
  {
   "cell_type": "code",
   "execution_count": 3,
   "metadata": {},
   "outputs": [
    {
     "data": {
      "text/html": [
       "<table style=\"border: 2px solid white;\">\n",
       "<tr>\n",
       "<td style=\"vertical-align: top; border: 0px solid white\">\n",
       "<h3 style=\"text-align: left;\">Client</h3>\n",
       "<ul style=\"text-align: left; list-style: none; margin: 0; padding: 0;\">\n",
       "  <li><b>Scheduler: </b>tcp://127.0.0.1:51933</li>\n",
       "  <li><b>Dashboard: </b><a href='http://127.0.0.1:8787/status' target='_blank'>http://127.0.0.1:8787/status</a>\n",
       "</ul>\n",
       "</td>\n",
       "<td style=\"vertical-align: top; border: 0px solid white\">\n",
       "<h3 style=\"text-align: left;\">Cluster</h3>\n",
       "<ul style=\"text-align: left; list-style:none; margin: 0; padding: 0;\">\n",
       "  <li><b>Workers: </b>4</li>\n",
       "  <li><b>Cores: </b>4</li>\n",
       "  <li><b>Memory: </b>8.59 GB</li>\n",
       "</ul>\n",
       "</td>\n",
       "</tr>\n",
       "</table>"
      ],
      "text/plain": [
       "<Client: 'tcp://127.0.0.1:51933' processes=4 threads=4, memory=8.59 GB>"
      ]
     },
     "execution_count": 3,
     "metadata": {},
     "output_type": "execute_result"
    }
   ],
   "source": [
    "# Start a client\n",
    "client = Client()\n",
    "client"
   ]
  },
  {
   "cell_type": "code",
   "execution_count": 4,
   "metadata": {},
   "outputs": [
    {
     "data": {
      "text/plain": [
       "dask.bag<repartition, npartitions=8>"
      ]
     },
     "execution_count": 4,
     "metadata": {},
     "output_type": "execute_result"
    }
   ],
   "source": [
    "# Load database with all .json files and repartition\n",
    "b = db.read_text('data/papers_in_json_singleline/*.json').map(json.loads).repartition(npartitions=8)\n",
    "b"
   ]
  },
  {
   "cell_type": "markdown",
   "metadata": {},
   "source": [
    "In order to do this, we look at authors entries in each document.\n",
    "As you can notice below, in the *metadata -> authors* fields there are many keys that are unnecessary for our purpose that we can drop.\n",
    "\n",
    "In addition, Dask Dataframes expects data that is organized as flat columns. It does not support nested JSON data very well.\n",
    "For this reason we use *Dask Bag* to flatten down our nested data structure, map that across our records, and then convert that to a Dask Dataframe."
   ]
  },
  {
   "cell_type": "code",
   "execution_count": 5,
   "metadata": {
    "scrolled": false
   },
   "outputs": [
    {
     "data": {
      "text/plain": [
       "({'title': 'PfSWIB, a potential chromatin regulator for var gene regulation and parasite development in Plasmodium falciparum',\n",
       "  'authors': [{'first': 'Wei-Feng',\n",
       "    'middle': [],\n",
       "    'last': 'Wang',\n",
       "    'suffix': '',\n",
       "    'affiliation': {'laboratory': '',\n",
       "     'institution': 'Second Military Medical University',\n",
       "     'location': {'postCode': '200433',\n",
       "      'settlement': 'Shanghai',\n",
       "      'country': 'China'}},\n",
       "    'email': ''},\n",
       "   {'first': 'Yi-Long',\n",
       "    'middle': [],\n",
       "    'last': 'Zhang',\n",
       "    'suffix': '',\n",
       "    'affiliation': {'laboratory': '',\n",
       "     'institution': 'Second Military Medical University',\n",
       "     'location': {'postCode': '200433',\n",
       "      'settlement': 'Shanghai',\n",
       "      'country': 'China'}},\n",
       "    'email': ''}]},)"
      ]
     },
     "execution_count": 5,
     "metadata": {},
     "output_type": "execute_result"
    }
   ],
   "source": [
    "b.pluck('metadata').take(1)"
   ]
  },
  {
   "cell_type": "markdown",
   "metadata": {},
   "source": [
    "We notice that inside the *\"author -> affiliation -> location -> country\"* values there could be reported more than one country and we want to count all of them. In addition, sometimes the name of the country is repeated or is mispelled.<br>"
   ]
  },
  {
   "cell_type": "code",
   "execution_count": 6,
   "metadata": {},
   "outputs": [],
   "source": [
    "country_list = (b.pluck('metadata').pluck('authors').flatten()\n",
    "                .filter(lambda record: bool(record['affiliation']))\n",
    "                .filter(lambda record: bool(record['affiliation']['location']))\n",
    "                .pluck('affiliation').pluck('location')\n",
    "                .map(lambda record: record['country'] if 'country' in record.keys() else None) \n",
    "                .compute())"
   ]
  },
  {
   "cell_type": "code",
   "execution_count": 7,
   "metadata": {
    "scrolled": true
   },
   "outputs": [
    {
     "data": {
      "text/plain": [
       "['Japan',\n",
       " 'Singapore',\n",
       " 'The Netherlands., The Netherlands',\n",
       " 'China, China',\n",
       " None,\n",
       " 'Hungary',\n",
       " 'Spain, Spain',\n",
       " 'Tunisia',\n",
       " 'Belarus',\n",
       " 'South Korea',\n",
       " 'Thailand',\n",
       " 'Gokhan',\n",
       " 'P.R. China',\n",
       " 'India, India',\n",
       " 'Lao PDR',\n",
       " 'Germany',\n",
       " 'Netherlands',\n",
       " 'India-171001',\n",
       " 'Singapore, Singapore',\n",
       " 'South Africa',\n",
       " 'Japan (',\n",
       " 'the Philippines',\n",
       " 'España',\n",
       " 'Croatia',\n",
       " 'Georgia',\n",
       " 'Brasil',\n",
       " 'Uruguay',\n",
       " 'Nigeria',\n",
       " 'Deutschland',\n",
       " 'Northern Ireland',\n",
       " 'Spain, Spain., Darwich',\n",
       " 'Italy',\n",
       " 'Austria',\n",
       " 'New Zealand',\n",
       " 'The Netherlands',\n",
       " 'China, China, China',\n",
       " 'Spain, France',\n",
       " 'Switzerland',\n",
       " 'India, Israel, Netherlands',\n",
       " 'Ireland',\n",
       " 'U.K',\n",
       " 'United Kingdom, Nigeria',\n",
       " 'Venezuela',\n",
       " 'France',\n",
       " 'Malawi',\n",
       " 'Israel',\n",
       " 'United States',\n",
       " 'the Netherlands., the Netherlands',\n",
       " 'Canada',\n",
       " 'Korea',\n",
       " 'Portugal, Portugal',\n",
       " 'Australia',\n",
       " 'UK, UK and, USA',\n",
       " 'Korea, Republic of Korea',\n",
       " \"People's Republic of China\",\n",
       " 'Norway',\n",
       " 'United States, United States., Bangladesh',\n",
       " 'Belgium',\n",
       " 'P. R. China',\n",
       " 'España., . España',\n",
       " 'Ann Arbor',\n",
       " 'Mozambique',\n",
       " 'USA, USA',\n",
       " 'China, P. R. China',\n",
       " 'Democratic Republic of Congo',\n",
       " 'The Netherlands, The Netherlands',\n",
       " \"China, People's Republic of China\",\n",
       " 'USA',\n",
       " 'Kazakhstan',\n",
       " 'Bangladesh',\n",
       " 'UK',\n",
       " 'France, France',\n",
       " 'Russia',\n",
       " 'UK A R',\n",
       " 'Italy;',\n",
       " 'Australia, Australia',\n",
       " 'Taiwan, ROC',\n",
       " 'United States of America',\n",
       " 'Republic of Korea',\n",
       " 'Iraq',\n",
       " 'Portugal',\n",
       " 'Poland',\n",
       " 'Myanmar',\n",
       " 'Spain',\n",
       " 'Denmark',\n",
       " 'Brazil, Brazil, Brazil (',\n",
       " 'USA, Israel',\n",
       " 'United Arab Emirates',\n",
       " 'Egypt',\n",
       " 'Mexico City, Mexico',\n",
       " 'Sweden',\n",
       " 'Sri Lanka',\n",
       " 'Brazil',\n",
       " 'Sultanate of Oman',\n",
       " 'Brazil. R',\n",
       " 'Pakistan',\n",
       " 'Brazil, Brazil',\n",
       " 'Schweden ·',\n",
       " 'India',\n",
       " 'SP Brazil',\n",
       " 'the Netherlands, the Netherlands, the Netherlands (I. Thurkow);, The Netherlands',\n",
       " 'Taiwan',\n",
       " 'Greece',\n",
       " 'S.A. Avenida Italia, Uruguay',\n",
       " 'Russian Federation',\n",
       " 'Qatar',\n",
       " 'U.S.A',\n",
       " 'Poland, Poland',\n",
       " 'China (',\n",
       " 'Ghana',\n",
       " 'France A R',\n",
       " 'Republic of Singapore, Singapore, Republic of Singapore',\n",
       " 'Vietnam',\n",
       " 'Spain, Spain, Spain',\n",
       " 'Republic of Singapore',\n",
       " 'Israel, UK',\n",
       " 'USA., USA',\n",
       " 'Czech Republic',\n",
       " 'Jordan',\n",
       " 'the Netherlands',\n",
       " 'Tanzania',\n",
       " 'U.K.',\n",
       " 'New Jersey',\n",
       " 'California',\n",
       " 'China',\n",
       " 'UK, Thailand',\n",
       " 'Finland',\n",
       " 'Guatemala',\n",
       " 'PR China',\n",
       " 'Iran',\n",
       " 'France 15',\n",
       " 'Argentina',\n",
       " 'India., India',\n",
       " 'England, UK',\n",
       " \"People's Republic of China, China\",\n",
       " 'United Kingdom',\n",
       " 'Jersey, USA',\n",
       " 'UK, Malaysia',\n",
       " 'Cambodia',\n",
       " 'Mexico City, Mexico, Mexico',\n",
       " 'Scotland',\n",
       " 'Luxembourg',\n",
       " 'Chile',\n",
       " 'Mexico',\n",
       " 'Turkey',\n",
       " 'Malaysia']"
      ]
     },
     "execution_count": 7,
     "metadata": {},
     "output_type": "execute_result"
    }
   ],
   "source": [
    "unique_country_list = list(set(country_list))\n",
    "unique_country_list"
   ]
  },
  {
   "cell_type": "markdown",
   "metadata": {},
   "source": [
    "Also, some countries have some synonims which should be counted as a single country.\n",
    "For instance, China has the following:"
   ]
  },
  {
   "cell_type": "code",
   "execution_count": 23,
   "metadata": {},
   "outputs": [
    {
     "data": {
      "text/plain": [
       "['China, China',\n",
       " 'P.R. China',\n",
       " 'China, China, China',\n",
       " \"People's Republic of China\",\n",
       " 'P. R. China',\n",
       " 'China, P. R. China',\n",
       " \"China, People's Republic of China\",\n",
       " 'China (',\n",
       " 'China',\n",
       " 'PR China',\n",
       " \"People's Republic of China, China\"]"
      ]
     },
     "execution_count": 23,
     "metadata": {},
     "output_type": "execute_result"
    }
   ],
   "source": [
    "china = [c for c in unique_country_list if 'China' in str(c)]\n",
    "china"
   ]
  },
  {
   "cell_type": "markdown",
   "metadata": {},
   "source": [
    "In the end, we find that the maximum number of countries for each author is two: for this reason we store the countries name (*\"Country1\"*, *\"Country2\"*) in a DataFrame along with the name and the university of each author.\n",
    "\n",
    "In order to clean all the *country* entries before putting in the DataFrame, we develop two functions:<br>\n",
    "- *clean_countries*: remove all the wrong characters (symbols, numbers, ...) using *RegEX* module as before, split if more than one country is reported and remove repetitions. It returns a list of two strings."
   ]
  },
  {
   "cell_type": "code",
   "execution_count": 8,
   "metadata": {},
   "outputs": [],
   "source": [
    "# 'Affiliation -> location -> country' may contain more than one contry\n",
    "# there may also be some repeated countries\n",
    "# or some random numbers, symbols or letters may be present\n",
    "def clean_countries(countries):\n",
    "    tmp = re.sub('[^,a-zA-Zñ ]', '', countries) # remove special characters except comma\n",
    "    tmp = re.sub(r\"\\b[a-zA-Z]\\b\", \"\", tmp) # remove single letter\n",
    "    tmp = tmp.split(', ') # split if more than one country is present\n",
    "    tmp = [c.strip() for c in tmp] # remove leading and trailing spaces\n",
    "    tmp = list(set(tmp)) # remove duplicates\n",
    "    tmp = [check_country_name(c) for c in tmp]\n",
    "    tmp = tmp + [None]*(2 - len(tmp)) # pad until size=2\n",
    "    \n",
    "    return tmp"
   ]
  },
  {
   "cell_type": "markdown",
   "metadata": {},
   "source": [
    "- *check_country_name*: correct the names in the list as in *\"countries.txt\"* format and check if the reported name is actually a country, otherwise insert None <br>"
   ]
  },
  {
   "cell_type": "code",
   "execution_count": 9,
   "metadata": {},
   "outputs": [],
   "source": [
    "# Check if the name of the country is in the database\n",
    "# Or if the string contains a country\n",
    "def check_country_name(country):\n",
    "    if 'China' in country:\n",
    "        return 'China'\n",
    "    elif 'Brazil' in country:\n",
    "        return 'Brasil'\n",
    "    elif 'Netherlands' in country:\n",
    "        return 'Netherlands'\n",
    "    elif 'Korea' in country:\n",
    "        return 'Korea'\n",
    "    elif 'Oman' in country:\n",
    "        return 'Oman'\n",
    "    elif 'Congo' in country:\n",
    "        return 'Congo'\n",
    "    elif ('America' in country) or ('United States' in country):\n",
    "        return 'USA'\n",
    "    elif 'Russia' in country:\n",
    "        return 'Russia'\n",
    "    elif 'Singapore' in country:\n",
    "        return 'Singapore'\n",
    "    elif country == 'ROC':\n",
    "        return 'Taiwan'\n",
    "    elif country == 'Deutschland':\n",
    "        return 'Germany'\n",
    "    elif (country == 'United Kingdom') or (country == 'England') or ('UK' in country):\n",
    "        return 'UK'\n",
    "    elif country=='Schweden':\n",
    "        return 'Sweden'\n",
    "    elif country=='España':\n",
    "        return 'Spain'\n",
    "    # Check if it's in the database\n",
    "    # i.e. if it really is a country and not a region, institution, ...\n",
    "    elif country in c_names:\n",
    "        return country\n",
    "    else:\n",
    "        return None"
   ]
  },
  {
   "cell_type": "markdown",
   "metadata": {},
   "source": [
    "We have downloaded a database (*\"countries.txt\"*) containing the names of all the nations of the world, so we can use it to check that the information entered in *\"author -> affiliation -> location -> country\"* is actually the name of an existing country (i.e. New Jersey is not a country). <br>\n",
    "We store it in cache memory in order to speed up the execution since it's a light database and it will be used many times."
   ]
  },
  {
   "cell_type": "code",
   "execution_count": 10,
   "metadata": {},
   "outputs": [],
   "source": [
    "# Caching database with correct name of all countries of the world\n",
    "# Constructing this each time you call the function can be a bottleneck.\n",
    "c_names = np.loadtxt('countries.txt', delimiter='\\n', dtype=str)"
   ]
  },
  {
   "cell_type": "markdown",
   "metadata": {},
   "source": [
    "Now we are able to create our Dask Dataframe by de-nesting the database and mapping our functions to every record."
   ]
  },
  {
   "cell_type": "code",
   "execution_count": 11,
   "metadata": {},
   "outputs": [],
   "source": [
    "# Store only name, countries and institution of each author\n",
    "def flatten(record):\n",
    "    \n",
    "    # Retrieve institution\n",
    "    if 'institution' in record['affiliation'].keys():\n",
    "        institution = record['affiliation']['institution']\n",
    "    else: institution = None\n",
    "    \n",
    "    # Retrieve location\n",
    "    if 'location' in record['affiliation'].keys():\n",
    "        if 'country' in record['affiliation']['location'].keys():\n",
    "            # Retrieve array of countries\n",
    "            countries = clean_countries(str(record['affiliation']['location']['country']))\n",
    "            \n",
    "        else: countries = [None] * 2\n",
    "    else: countries = [None] * 2\n",
    "    \n",
    "    return {\n",
    "        'Name':       record['first'],\n",
    "        'Surname':    record['last'], \n",
    "        'University': institution,\n",
    "        'Country1':   countries[0],\n",
    "        'Country2':   countries[1]\n",
    "    }"
   ]
  },
  {
   "cell_type": "code",
   "execution_count": 12,
   "metadata": {},
   "outputs": [
    {
     "data": {
      "text/html": [
       "<div><strong>Dask DataFrame Structure:</strong></div>\n",
       "<div>\n",
       "<style scoped>\n",
       "    .dataframe tbody tr th:only-of-type {\n",
       "        vertical-align: middle;\n",
       "    }\n",
       "\n",
       "    .dataframe tbody tr th {\n",
       "        vertical-align: top;\n",
       "    }\n",
       "\n",
       "    .dataframe thead th {\n",
       "        text-align: right;\n",
       "    }\n",
       "</style>\n",
       "<table border=\"1\" class=\"dataframe\">\n",
       "  <thead>\n",
       "    <tr style=\"text-align: right;\">\n",
       "      <th></th>\n",
       "      <th>Country1</th>\n",
       "      <th>Country2</th>\n",
       "      <th>Name</th>\n",
       "      <th>Surname</th>\n",
       "      <th>University</th>\n",
       "    </tr>\n",
       "    <tr>\n",
       "      <th>npartitions=8</th>\n",
       "      <th></th>\n",
       "      <th></th>\n",
       "      <th></th>\n",
       "      <th></th>\n",
       "      <th></th>\n",
       "    </tr>\n",
       "  </thead>\n",
       "  <tbody>\n",
       "    <tr>\n",
       "      <th></th>\n",
       "      <td>object</td>\n",
       "      <td>object</td>\n",
       "      <td>object</td>\n",
       "      <td>object</td>\n",
       "      <td>object</td>\n",
       "    </tr>\n",
       "    <tr>\n",
       "      <th></th>\n",
       "      <td>...</td>\n",
       "      <td>...</td>\n",
       "      <td>...</td>\n",
       "      <td>...</td>\n",
       "      <td>...</td>\n",
       "    </tr>\n",
       "    <tr>\n",
       "      <th>...</th>\n",
       "      <td>...</td>\n",
       "      <td>...</td>\n",
       "      <td>...</td>\n",
       "      <td>...</td>\n",
       "      <td>...</td>\n",
       "    </tr>\n",
       "    <tr>\n",
       "      <th></th>\n",
       "      <td>...</td>\n",
       "      <td>...</td>\n",
       "      <td>...</td>\n",
       "      <td>...</td>\n",
       "      <td>...</td>\n",
       "    </tr>\n",
       "    <tr>\n",
       "      <th></th>\n",
       "      <td>...</td>\n",
       "      <td>...</td>\n",
       "      <td>...</td>\n",
       "      <td>...</td>\n",
       "      <td>...</td>\n",
       "    </tr>\n",
       "  </tbody>\n",
       "</table>\n",
       "</div>\n",
       "<div>Dask Name: to_dataframe, 2024 tasks</div>"
      ],
      "text/plain": [
       "Dask DataFrame Structure:\n",
       "              Country1 Country2    Name Surname University\n",
       "npartitions=8                                             \n",
       "                object   object  object  object     object\n",
       "                   ...      ...     ...     ...        ...\n",
       "...                ...      ...     ...     ...        ...\n",
       "                   ...      ...     ...     ...        ...\n",
       "                   ...      ...     ...     ...        ...\n",
       "Dask Name: to_dataframe, 2024 tasks"
      ]
     },
     "execution_count": 12,
     "metadata": {},
     "output_type": "execute_result"
    }
   ],
   "source": [
    "# Create Dask Dataframe with name, countries and institution of each author\n",
    "df = (b.pluck('metadata').pluck('authors')\n",
    "        .flatten()\n",
    "        .map(flatten)\n",
    "        .to_dataframe()\n",
    "     )\n",
    "df"
   ]
  },
  {
   "cell_type": "code",
   "execution_count": 13,
   "metadata": {},
   "outputs": [
    {
     "data": {
      "text/html": [
       "<div>\n",
       "<style scoped>\n",
       "    .dataframe tbody tr th:only-of-type {\n",
       "        vertical-align: middle;\n",
       "    }\n",
       "\n",
       "    .dataframe tbody tr th {\n",
       "        vertical-align: top;\n",
       "    }\n",
       "\n",
       "    .dataframe thead th {\n",
       "        text-align: right;\n",
       "    }\n",
       "</style>\n",
       "<table border=\"1\" class=\"dataframe\">\n",
       "  <thead>\n",
       "    <tr style=\"text-align: right;\">\n",
       "      <th></th>\n",
       "      <th>Country1</th>\n",
       "      <th>Country2</th>\n",
       "      <th>Name</th>\n",
       "      <th>Surname</th>\n",
       "      <th>University</th>\n",
       "    </tr>\n",
       "  </thead>\n",
       "  <tbody>\n",
       "    <tr>\n",
       "      <th>0</th>\n",
       "      <td>China</td>\n",
       "      <td>None</td>\n",
       "      <td>Wei-Feng</td>\n",
       "      <td>Wang</td>\n",
       "      <td>Second Military Medical University</td>\n",
       "    </tr>\n",
       "    <tr>\n",
       "      <th>1</th>\n",
       "      <td>China</td>\n",
       "      <td>None</td>\n",
       "      <td>Yi-Long</td>\n",
       "      <td>Zhang</td>\n",
       "      <td>Second Military Medical University</td>\n",
       "    </tr>\n",
       "    <tr>\n",
       "      <th>2</th>\n",
       "      <td>Taiwan</td>\n",
       "      <td>None</td>\n",
       "      <td>Chih-Cheng</td>\n",
       "      <td>Lai</td>\n",
       "      <td>Chi Mei Medical Center</td>\n",
       "    </tr>\n",
       "    <tr>\n",
       "      <th>3</th>\n",
       "      <td>Taiwan</td>\n",
       "      <td>None</td>\n",
       "      <td>Chen-Chen</td>\n",
       "      <td>Chu</td>\n",
       "      <td>National Taiwan University Hospital</td>\n",
       "    </tr>\n",
       "    <tr>\n",
       "      <th>4</th>\n",
       "      <td>Taiwan</td>\n",
       "      <td>None</td>\n",
       "      <td>Aristine</td>\n",
       "      <td>Cheng</td>\n",
       "      <td>New Taipei City</td>\n",
       "    </tr>\n",
       "  </tbody>\n",
       "</table>\n",
       "</div>"
      ],
      "text/plain": [
       "  Country1 Country2        Name Surname                           University\n",
       "0    China     None    Wei-Feng    Wang   Second Military Medical University\n",
       "1    China     None     Yi-Long   Zhang   Second Military Medical University\n",
       "2   Taiwan     None  Chih-Cheng     Lai               Chi Mei Medical Center\n",
       "3   Taiwan     None   Chen-Chen     Chu  National Taiwan University Hospital\n",
       "4   Taiwan     None    Aristine   Cheng                      New Taipei City"
      ]
     },
     "execution_count": 13,
     "metadata": {},
     "output_type": "execute_result"
    }
   ],
   "source": [
    "df.head()"
   ]
  },
  {
   "cell_type": "markdown",
   "metadata": {},
   "source": [
    "### 3.2.2 Figure out the countries that are most and less active in the research"
   ]
  },
  {
   "cell_type": "markdown",
   "metadata": {},
   "source": [
    "Now we are ready for counting the country's occurrence: since the database has two columns with names of the nation, we have to merge the two counts."
   ]
  },
  {
   "cell_type": "code",
   "execution_count": 14,
   "metadata": {},
   "outputs": [
    {
     "data": {
      "text/plain": [
       "Dask Series Structure:\n",
       "npartitions=1\n",
       "    int64\n",
       "      ...\n",
       "dtype: int64\n",
       "Dask Name: astype, 2060 tasks"
      ]
     },
     "execution_count": 14,
     "metadata": {},
     "output_type": "execute_result"
    }
   ],
   "source": [
    "# Count country's occurence in Country1 and Country2 columns\n",
    "freq1 = df.Country1.value_counts()\n",
    "freq2 = df.Country2.value_counts()\n",
    "\n",
    "# Merge the two Dask Series\n",
    "countries_freq = freq1.add(freq2, fill_value=0).astype(int)\n",
    "countries_freq"
   ]
  },
  {
   "cell_type": "code",
   "execution_count": 15,
   "metadata": {},
   "outputs": [
    {
     "name": "stdout",
     "output_type": "stream",
     "text": [
      "CPU times: user 4.64 s, sys: 353 ms, total: 5 s\n",
      "Wall time: 13 s\n"
     ]
    }
   ],
   "source": [
    "%%time\n",
    "# Compute everything\n",
    "countries_freq = countries_freq.compute().sort_values(ascending=False)"
   ]
  },
  {
   "cell_type": "code",
   "execution_count": 16,
   "metadata": {},
   "outputs": [
    {
     "data": {
      "image/png": "[encoded data removed]",
      "text/plain": [
       "<Figure size 1008x576 with 1 Axes>"
      ]
     },
     "metadata": {
      "needs_background": "light"
     },
     "output_type": "display_data"
    }
   ],
   "source": [
    "# Plot best represented countries\n",
    "from matplotlib.ticker import MaxNLocator\n",
    "\n",
    "plt.figure(figsize=(14,8))\n",
    "\n",
    "pos = np.arange(10)\n",
    "width = 0.8     # gives histogram aspect to the bar diagram\n",
    "\n",
    "ax = plt.axes()\n",
    "ax.set_xticks(pos)\n",
    "ax.set_xticklabels(countries_freq.index[:10])\n",
    "\n",
    "plt.bar(pos, countries_freq.values[:10], width, color='r', edgecolor='k')\n",
    "plt.xlabel('countries', size=12)\n",
    "plt.ylabel('frequencies', size=12)\n",
    "plt.title('Top-10 represented countries in Covid-19 research', size=14)\n",
    "plt.show()"
   ]
  },
  {
   "cell_type": "code",
   "execution_count": 17,
   "metadata": {},
   "outputs": [
    {
     "data": {
      "image/png": "[encoded data removed]",
      "text/plain": [
       "<Figure size 1008x576 with 1 Axes>"
      ]
     },
     "metadata": {
      "needs_background": "light"
     },
     "output_type": "display_data"
    }
   ],
   "source": [
    "# Plot worst represented countries\n",
    "plt.figure(figsize=(14,8))\n",
    "\n",
    "m = 15 # number of countries to display\n",
    "pos = np.arange(m)\n",
    "width = 0.8     # gives histogram aspect to the bar diagram\n",
    "\n",
    "ax = plt.axes()\n",
    "ax.set_xticks(pos)\n",
    "ax.set_xticklabels(countries_freq.index[-m:])\n",
    "plt.xticks(rotation=65)\n",
    "ax.yaxis.set_major_locator(MaxNLocator(integer=True))\n",
    "\n",
    "plt.bar(pos, countries_freq.values[-m:], width, color='r', edgecolor='k')\n",
    "plt.xlabel('countries', size=12)\n",
    "plt.ylabel('frequencies', size=12)\n",
    "plt.title('Worst-15 represented countries in Covid-19 research', size=14)\n",
    "plt.show()"
   ]
  },
  {
   "cell_type": "markdown",
   "metadata": {},
   "source": [
    "### 3.2.3 Do the same for the universities"
   ]
  },
  {
   "cell_type": "code",
   "execution_count": 18,
   "metadata": {},
   "outputs": [
    {
     "name": "stdout",
     "output_type": "stream",
     "text": [
      "CPU times: user 4.58 s, sys: 368 ms, total: 4.95 s\n",
      "Wall time: 13.2 s\n"
     ]
    }
   ],
   "source": [
    "%%time\n",
    "# Count institution's occurence\n",
    "inst_freq = df.University.value_counts().compute()\n",
    "inst_freq = inst_freq.drop('') # remove empty affiliation (\"\")"
   ]
  },
  {
   "cell_type": "code",
   "execution_count": 19,
   "metadata": {},
   "outputs": [
    {
     "data": {
      "image/png": "[encoded data removed]",
      "text/plain": [
       "<Figure size 1008x576 with 1 Axes>"
      ]
     },
     "metadata": {
      "needs_background": "light"
     },
     "output_type": "display_data"
    }
   ],
   "source": [
    "# Plot best represented universities\n",
    "plt.figure(figsize=(14,8))\n",
    "\n",
    "pos = np.arange(10)\n",
    "width = 0.8     # gives histogram aspect to the bar diagram\n",
    "\n",
    "ax = plt.axes()\n",
    "ax.set_xticks(pos)\n",
    "ax.set_xticklabels(inst_freq.index[:10])\n",
    "plt.xticks(rotation=65)\n",
    "ax.yaxis.set_major_locator(MaxNLocator(integer=True))\n",
    "\n",
    "plt.bar(pos, inst_freq.values[:10], width, color='r', edgecolor='k')\n",
    "plt.xlabel('countries', size=12)\n",
    "plt.ylabel('frequencies', size=12)\n",
    "plt.title('Top-10 represented institutions in Covid-19 research', size=14)\n",
    "plt.show()"
   ]
  },
  {
   "cell_type": "code",
   "execution_count": 16,
   "metadata": {},
   "outputs": [
    {
     "name": "stdout",
     "output_type": "stream",
     "text": [
      "Worst institutions -> only one published paper\n",
      "\n",
      "['Al-Quds University', \"Wuxi Third People's Hospital\", 'University of Mississippi Medical Center', 'Fred Hutchinson Cancer Research Center', 'Albert-Ludwigs-University', 'Free University Amsterdam', \"Xi'an Jiaotong University\", 'Genome Institute of Singapore', 'University of Macau', 'Gene Centre of LMU Munich', 'University of Malta', \"University of Milan-Bicocca Piazza dell'Ateneo Nuovo\", 'University of Messina', 'Alameda Prof. Hernâni Monteiro', \"Wuxi Second People's Hospital\", 'University of Massachusetts', 'University of Manitoba', 'Forman Christian College University', 'Utrecht 16 University', 'Althaia Network Health', 'Ev. Krankenhaus Herne und Augusta-Kranken-Anstalt', 'Edgefield Veterinary Clinic', 'Wellcome-Wolfson Institute for Experimental Medicine', 'Eduardo Mondlane University', 'Army Hospital Research and Referral', 'Eldridge Rd', 'Eliza Hall Institute of Medical Research', 'Emory University', 'University of New Mexico HSC', 'Wenzhou Medical University Second Affiliated Hospital', 'University of New Mexico', 'Erasmus University', 'Erasmus University Medical Center', 'University of Nevada Las Vegas', 'Fondazione IRCCS Policlinico San Matteo and University of Pavia', 'Farrer Park Hospital', 'Fatebenefratelli Sacco University Hospital', \"Arkansas Children's Hospital\", 'Westfälische Wilhelms-Universität Münster', 'University of Mosul', 'Firat University', 'Westlake high school', 'First Affiliated Hospital of Guangzhou Medical College', 'First Affiliated Hospital of Zhengzhou University', 'University of Mons (UMons)', 'University of Mons', 'George Washington University', 'Wuhan, Hubei', 'Xinyang Central Hospital', 'University of London', 'Zunyi Medical College Affiliated Hospital', 'Zhejiang Top-medical Dressing Co. Ltd', 'University of Electronic Science and Technology of China', 'ASST Spedali Civili and Brescia University', 'Harvard University', 'Health Sciences', 'Healthcare Claims and Management', 'Zhongshan Hospital Xiamen University', 'Hebrew University', 'University of Dundee', 'Heidelberg University', 'Zoological Society of London', 'ADA University', 'Georgia Regents University', 'University of Colorado-Boulder', 'University of Cincinnati', 'Helsinki University Hospital', 'University of Catania', 'Hewlett Packard Enterprise', 'University of Canterbury', 'Hokkaido Green-Bio Institute', 'Holy Heart Advanced Cardiac Care and Research Centre', 'Homerton University Hospital', 'University of Campania \"L. Vanvitelli\"', 'University of California at Davis', 'Aalborg University', 'Harbin Institute of Technology', 'Aarhus University', 'University of Ghana', 'University of Leipzig', 'University of Kwa', 'Weill Cornell Medical College', 'Gladstone Institute of Cardiovascular Disease', 'University of Iowa', \"Golisano Children's Hospital\", 'Yale School of Medicine', 'Government Polytechnic', 'Griffith University', 'University of Illinois at Chicago College of Medicine', 'Affiliated Hospital of Guizhou Medical University', \"Yale-New Haven Children's Hospital\", 'Guangdong Pharmaceutical University', 'Yinfeng Dingcheng Bioengineering and Technology Ltd', \"University of Hong Kong e Guangzhou Children's Hospital\", 'Yunnan Institute of Endemic Disease Control and Prevention', 'Guizhou Medical University', 'Zentrum für Pneumologie', 'HIV Center, S. Caterina Novella Hospital', 'University of Haifa', 'University of Glasgow', 'Hallym University School of Medicine', 'Hamadan University of Medical Sciences', 'Artemis Hospital', 'Duke University School of Medicine', 'University of Nottingham', 'ETH Hönggerberg', 'Vascular Institute', 'Boehringer Ingelheim Vetmedica GmbH', 'Chang Gung University', 'Università degli Studi di Messina', 'Bocconi University', 'Università degli Studi di Bergamo', 'Bioscreen EVDMC GmbH', 'Universit~tsspital', 'Charité Universitätsmedizin Berlin', 'Charité-Universitätsmedizin Berlin', 'Cheng Hsin Rehabilitation Medical Center', 'Chi Mei Medical Center', 'Chia-I Hospital', 'Veterans Affairs Medical Center', 'Bernhard-Nocht-Institute for Tropical Medicine', \"Children's Hospital Los Angeles\", 'University of Zurich', \"Benioff Children's Hospital Oakland\", 'University of Westminster', \"Children's Hospital of FudanUniversity\", 'Veterinary Resources Inc', \"Children's Hospital of Wisconsin\", 'China Academy of Sciences', 'University of Virginia', 'China Novartis Institutes for Biomedical Research', 'Università degli Studi di Milano', 'Università del Piemonte Orientale', 'Vanderbilt University School of Medicine', 'Camilo José Cela University', 'CHUAC, A Coruña', 'Uppsala University', 'CNPAB/EMBRAPA', 'Université des Sciences et Technologies de Lille', 'Université de Sherbrooke', 'Université de Montréal', 'Université de Mons (UMONS)', 'CSIRO Health Sciences and Nutrition', 'VACCNE Co. Lgd', 'California Institute of Technology', 'Cambridge Health Alliance', 'CEA/Genoscope', 'Università di Milano', 'Campus Universitário Reitor', 'Cangene Corporation', 'Cangzhou Central Hospital', 'Université Alassane Ouattara de Bouaké', 'Cardiff University', 'Universität Ulm', 'Byrd Health Sciences Center', 'Central University of Rajasthan', 'Centre Hospitalier Universitaire de Treichville', 'Bucknell University', 'Vancouver Infectious Diseases Center', 'China University of Petroleum(East China)', 'University of Vermont', 'Chinese Academy of Forestry', 'Washington University in St. Louis', 'Azienda Socio Sanitario Territoriale Papa Giovanni XXIII Hospital', 'Consejo Counseling and Referral Service', 'University of Shanghai for Science and Technology', 'Cooper Medical School of Rowan University', 'Vrije Universiteit Brussel', 'Washington Universi', 'Dalang Hospital of Dongguan', 'University of Port Harcourt', 'Danang University', 'Danish Institute for Food and Veterinary Research', 'Australian National University', 'Dartmouth Hitchcock Medical Center', 'Babol University of Medical Sciences', 'Deakin University', 'Deenanath Mangeshkar Hospital and Research Centre', 'University of Pennsylvania Perelman School of Medicine', 'Assistance Publique -Hôpitaux de Paris', 'Dongping People Hospital', 'Asian Institute of Medical Sciences', 'Dr DY Patil University', 'Duke University', 'Duke University Medical Center', 'CHU de Québec-Université Laval', 'Duy Tan University', 'Vivekananda Institute of Medical Science', 'Babraham Hall', 'University of Venezuela', 'Chungbuk National University', 'University of Trento', 'Chinese Culture University', 'University of Texas at San Antonio', 'Beckman Coulter Inc', 'Chonbuk National University Medical School', 'Chonbuk National University and Chonbuk National University Hospital', 'Chongqing Medical University', 'University of Texas Southwestern', 'University of Texas Health Sciences Center', 'Chung-Ang University College of Medicine', 'Chung-Hua Institution for Economic Research', 'Chungnam National University', 'University of Southern California and Rancho Los Amigos Medical Center', 'Beatson West of Scotland Cancer Centre', 'Hospital General de Castellón', 'Beatrix Hospital', 'Bayer Animal Health GmbH', 'City University of Hong Kong Shenzhen Research Institute', 'University of St', 'Clinica Veterinaria San Marco', 'Clínica Universidad de Navarra', 'Colorado State University', 'University of Split', 'Banaras Hindu University', 'University of Sydney', 'University Malaysia Terengganu', 'Hospital Gregorio Marañon', 'Sichuan Normal University', 'National Remote Sensing Center (ISRO)', 'St George Private Hospital', 'St George Hospital', 'National School of Public Health', 'National Taipei University of Nursing and Health Sciences', 'South China Agricultural University', 'National Taiwan University College of Medicine', 'Sorbonne Paris Cité', 'Smidt Heart Institute', 'Sir Ganga Ram Hospital', 'National University Cancer Institute', 'Singapore Correspondence Winnie L. Teo', 'National Vaccine Program Office', 'Sichuan University of Arts and Science', 'Siam University', 'Niigata University', \"Nationwide Children's Hospital\", 'Naval Health Research Center', 'Sheffield Teaching Hospitals NHS Trust', 'Shanxi Medical University Second Affiliated Hospital', 'Netherlands Cancer Institute', 'Netherlands Defense Academy/Tilburg University', 'New England Primate Center', 'New Taipei', 'Shanghai Yangpu District Central Hospital', 'New University of Lisbon', 'Shanghai University of Political', 'New York State Department of Health', 'Newark Beth Israel Medical Center', 'Newcastle University', \"St. Luke's University Health Network\", 'National Institute of Respiratory Diseases Ismael Cosío Villegas', 'Stockholm County', 'National Institute of Informatics', 'Tel-Aviv University', 'Tel Aviv University', 'Nagoya University', 'Nam Central General Hospital', 'Nam Northern Mountainous Region General Hospital', 'Nam Provincial General Hospital', 'Nam Regional General Hospital', 'Tehran University of Medical Sciences', 'Technical University of Munich', 'National Academies of Sciences', 'Tanta University', 'National Autonomous University of Mexico', 'Tan Tock Seng Hospital', 'National Cancer Institute', 'National Center for Global Health and Medicine Hospital', 'Taiwan Sugar Research Institute', 'National Cheng Kung University Hospital', 'National Cheng-chi University', 'Taipei Medical University Hospital', 'Taif University', \"Tai'an Hospital of Infectious Diseases\", 'Tabriz University of Medical Sciences', 'National Institute for Mathematical Sciences', 'Swedish University of Agricultural Sciences', 'Swansea University', 'National Institute of Advanced Industrial and Science Technology', 'Sussex University Hospitals NHS Trust', 'Sunnybrook Health Sciences Centre', \"Stockman's Lane\", 'Nguyen Tat Thanh University', 'Ningyang Firs Hospital', 'Hospital Infanta Sofía', 'Queensland University of 10 Technology', 'Pontificia Universidad Católica de Chile', 'Sankara College of Optometry', 'Poznan University of Medical Sciences', 'Princess Margaret Hospital', 'Sanford School of Medicine', 'Protein Folding and Quality Control', 'Public Health, Disability Unit -IRCCS Neurology Institute Besta', 'Pusan National University', 'Salisbury District Hospital', 'Qingdao Chest Hospital', 'Queen Mary Hospital', 'Saglik Bilimleri University', \"Queen's University\", 'S. Croce and Carle Teaching Hospital', 'S Mazzola', 'Shanghai JiaoTong University', 'Rutgers University', 'R & D Center of CheonJiYang Co., Ltd', 'Russian State Agrarian University ± Moscow Timiryazev Agricultural Academy', 'RDA', 'Rabdan Academy', 'Radboud University Medical Center', \"Rainbow Babies and Children's Hospital\", 'Rambam Health Care Campus', 'Rush University Medical Center', 'Ruhr-Universität Bochum', 'Republic of Turkey', \"Research Institute of St. Joe's Hamilton\", 'Research and Early Development', 'Research institute Reproduction', 'Polytechnic of Porto', 'Politecnico di Torino', 'Policlinic of Tor Vergata', 'Piedmont Heart Institute', 'Shanghai Jiao Tong University', 'North Middlesex University Hospital', 'North Texas Heart Center', 'Shandong University', 'Shandong Provincial Hospital Affiliated to Shandong University', 'Northwell Health', 'Northwest University', 'Northwestern University Feinberg School of Medicine', 'Shalby Hospital', 'Shahid Beheshti University of Medical Sciences', 'Olivos Clinic', 'Oncovir Inc', 'One BioMed Pte Ltd', 'OneGene Biotech Inc', 'Oragen Technologies', 'Seoul National University Hospital', 'Oslo University Hospital', 'Sengkang General Hospital', 'Sejong University', 'Oxford University Clinical Research Unit (OUCRU)', 'Paris Saint-Joseph Hospital Group', \"Seattle Children's Research Institute\", 'Scientific Institute of Public Health (WIV-ISP)', 'Peking University First Hospital', 'Sanofi-Pasteur', 'Penn State Cancer Institute, Hershey', \"Penn State Hershey Children's Hospital\", 'the University of Hong Kong', 'Philipps-University Marburg', 'Temple University', 'NAWI Graz', 'Texas Cardiac Arrhythmia Institute', 'Inha University', 'University College London', 'Universitat de Lleida', 'Universitat de Barcelona', 'Universidade do Porto', 'IRCCS Fondazione S. Lucia', 'IRCCS Ospedale Maggiore di Milano', 'Universidade de Lisboa', 'Imperial College Healthcare NHS Trust', 'Universidade de Brasília', 'Indian Institute of Technology Bombay', 'Universidade Federal do Rio Grande do Norte', 'Indiana University-Purdue University Indianapolis', 'Indira Gandhi Medical College', 'Industrial Technology Research Institute', 'Inha University College of Medicine', \"Texas Children's Hospital\", 'Universidade Federal do Rio Grande', 'Universidade Federal de Minas Gerais', 'Universidade Federal Rural do Semi-Árido', 'Universidad de Buenos Aires', 'Instituto Nacional de Saúde', 'International Islamic University Malaysia', 'Universidad Complutense de Madrid', 'Iran University of Medical Science', 'United States of America', 'Istinye University', 'Istituto Cine-tv Roberto Rossellini', 'Unioersity of Iowa College of Medicine', 'Jatiya Kabi Kazi Nazrul Islam University', 'Jikei University School of Medicine', 'University College London Hospital', 'University El Hadj Lakhdar', 'Hôpital Sainte-Anne', \"Hôpital Saint Antoine Hôpitaux Universitaires de l'Est Parisien\", 'University of Calabar', 'Hospital Joan XXIII/CIBER Enfermedades Respirato-rias/IISPV', 'Hospital Morales Meseguer', 'Hospital Mútua Terrassa', 'Hospital NS Valme', 'Hospital Parc Taulí/CIBER Enfermedades Respiratorias', 'University of Brasilia', 'Hospital Reina Sofía', 'Hospital Trueta/ CIBER Enfermedades Respiratorias', 'University of Birmingham', 'Hospital Universitario de Canarias', 'Hospital Virgen del Camino', 'University of Arkansas at Little Rock', 'University of Arizona', 'Howard Brown Health Chicago', 'Howard College Campus', 'University of Aarhus', 'Royal Botanic Gardens Kew', 'University Maastrich', 'University Hospitals Birmingham NHS Foundation Trust', 'Huazhong University of Sciences and Technology', 'Hubei University of Chinese Medicine', 'University Hospital Hedi Chaker', 'University Hospital Crosshouse', 'Humboldt Universität zu Berlin', 'University Hospital Antwerp', 'Hunan University', 'Huzhou University', 'University Hospital Angers', 'Jilin Jianzhu University of Changchun', 'Jining University', 'UPMC Center for Health Security', 'Lincoln University', 'Lomonosov Moscow State University', 'Lorestan University of Medical Sciences', 'Ludwig Maximilians University', 'Ludwig-Maximillians University', 'MPH', 'MSN', \"Ma'anshan Shiji Animal Health Management Co. Ltd\", 'The Royal Veterinary College', 'Malatya Turgut Ozal University', 'Manchester Royal Infirmary', 'Manipal Academy of Higher Education', 'The Royal Marsden NHS Foundation Trust', 'Marmara University', 'The Polytechnic', 'Massachusetts General Hospital', 'The Ottawa Hospital-General Campus', 'Mayo Clinic College of Medicine', 'Mayo Clinic Jacksonville', 'The Medical Center of Delaware', 'The Hospital for Sick Children', 'Medical University of Graz', 'Medical University of Warsaw', 'The Hashemite University', \"The First People's Hospital of Xiaoshan District\", 'The First Affiliated Hospital of Xiamen University', 'Mikrogen GmbH', 'The Animal Health Diagnostic Center', 'The Aga Khan University', 'Mount Elizabeth Hospital', 'The University of Chicago', 'Liceo Statale Augusto Righi', 'UO Prevenzione', 'The University of Danang', 'UNT Health Science Center at Fort Worth', 'UNSW Medicine', 'KMC Manipal', 'UNSW', 'Télécom SudParis', 'Kaohsiung Veterans General Hospital', 'Tunghai University', 'Keele University Staffordshire ST55BG', 'Kermanshah University of Medical Sciences', 'Tulane National Primate Research Center', 'Khoo Teck Puat Hospital', 'Tufts University School of Medicine', 'Tokyo Medical University', 'Tianjin University of Traditional Chinese Medicine', 'Tianjin Normal University', 'Kobe University Hospital', 'Thoracic Institute and Lerner Research Institute', 'Korea Food Research Institute', 'Thomas Jefferson Medical Collage', 'ThivervaI-Grignon (France)', 'Thermo Fisher Scientific', 'The University of Sheffield', 'Kursk State University', 'Kwangwoon University', 'The University of Manchester', 'La Trobe University', 'The University of Georgia', 'Late-stage Development', 'Laval University', 'Penza State University']\n"
     ]
    }
   ],
   "source": [
    "# Print worst institutions\n",
    "print('Worst institutions -> only one published paper\\n')\n",
    "print(inst_freq[inst_freq==1].index.tolist())"
   ]
  },
  {
   "cell_type": "code",
   "execution_count": 17,
   "metadata": {},
   "outputs": [],
   "source": [
    "client.close()"
   ]
  },
  {
   "cell_type": "markdown",
   "metadata": {},
   "source": [
    "### 3.2.3 Do multiple runs by changing the number of partitions and workers"
   ]
  },
  {
   "cell_type": "markdown",
   "metadata": {},
   "source": [
    "One of the most crucial parameters in distributed and parallel computing is the number of partitions in which the dataset is divided. In order to study its effect on the calculation speed, we repeat the analysis shown above by changing the number of partitions."
   ]
  },
  {
   "cell_type": "code",
   "execution_count": 18,
   "metadata": {},
   "outputs": [],
   "source": [
    "import time"
   ]
  },
  {
   "cell_type": "code",
   "execution_count": 19,
   "metadata": {},
   "outputs": [],
   "source": [
    "def compute_time(nwork=4, npart=8):\n",
    "    myCluster = LocalCluster(n_workers=nwork)\n",
    "    client = Client(myCluster)\n",
    "    \n",
    "    start = time.time()\n",
    "    \n",
    "    b = db.read_text('data/papers_in_json_singleline/*.json').map(json.loads).repartition(npartitions=npart)\n",
    "    \n",
    "    df = b.pluck('metadata').pluck('authors').flatten().map(flatten).to_dataframe()\n",
    "    \n",
    "    freq1 = df.Country1.value_counts()\n",
    "    freq2 = df.Country2.value_counts()\n",
    "    countries_freq = freq1.add(freq2, fill_value=0).astype(int)\n",
    "\n",
    "    inst_freq = df.University.value_counts()\n",
    "    \n",
    "    (countries_freq, inst_freq) = dask.compute(countries_freq, inst_freq)\n",
    "    inst_freq = inst_freq.drop('')\n",
    "    \n",
    "    end = time.time()\n",
    "    \n",
    "    client.close() #close client\n",
    "    myCluster.close() #close cluster\n",
    "    \n",
    "    return end-start"
   ]
  },
  {
   "cell_type": "code",
   "execution_count": 20,
   "metadata": {},
   "outputs": [
    {
     "name": "stdout",
     "output_type": "stream",
     "text": [
      "Partitions:  1  time [s]:  15.974990367889404\n",
      "Partitions:  2  time [s]:  10.908748149871826\n",
      "Partitions:  4  time [s]:  9.14146876335144\n",
      "Partitions:  8  time [s]:  8.093437910079956\n",
      "Partitions:  16  time [s]:  7.900640249252319\n",
      "Partitions:  32  time [s]:  8.60525369644165\n",
      "Partitions:  64  time [s]:  9.312490463256836\n",
      "Partitions:  128  time [s]:  9.237569332122803\n"
     ]
    }
   ],
   "source": [
    "parts = [1, 2, 4, 8, 16, 32, 64, 128]\n",
    "\n",
    "timings_parts = np.zeros(len(parts))\n",
    "\n",
    "for p in range(len(parts)):\n",
    "    timings_parts[p] = compute_time(npart=parts[p])\n",
    "    print(\"Partitions: \", parts[p], \" time [s]: \", timings_parts[p])"
   ]
  },
  {
   "cell_type": "code",
   "execution_count": 21,
   "metadata": {},
   "outputs": [
    {
     "data": {
      "image/png": "[encoded data removed]",
      "text/plain": [
       "<Figure size 576x360 with 1 Axes>"
      ]
     },
     "metadata": {
      "needs_background": "light"
     },
     "output_type": "display_data"
    }
   ],
   "source": [
    "# Bar plot of Time vs Number of partitions\n",
    "\n",
    "plt.figure(figsize=(8, 5))\n",
    "plt.bar(range(len(parts)),timings_parts)\n",
    "plt.title('Effect of Partitions on computation time',size=14)\n",
    "plt.xlabel('Partitions',size=14)\n",
    "plt.ylabel('Computation time [s]',size=14)\n",
    "plt.xticks(range(len(parts)),parts,size=14)\n",
    "plt.show()"
   ]
  },
  {
   "cell_type": "markdown",
   "metadata": {},
   "source": [
    "We see with increasing partitions the computation time decreases thanks to parallelization, but after partition=16, the computation time increases again. There is a cost to having too many or having too few.\n",
    "\n",
    "Partitions should fit comfortably in memory (smaller than a gigabyte) but also not be too many. Every operation on every partition takes the central scheduler a few hundred microseconds to process. If you have a few thousand tasks this is barely noticeable, but it is nice to reduce the number if possible."
   ]
  },
  {
   "cell_type": "markdown",
   "metadata": {},
   "source": [
    "## Grid Search:"
   ]
  },
  {
   "cell_type": "markdown",
   "metadata": {},
   "source": [
    "Then, in order to see the performance of the algorithm as the cluster structure and the number of allocations vary, we implement a Grid-search by changing the number of workers and the number of partitions for each worker."
   ]
  },
  {
   "cell_type": "code",
   "execution_count": 26,
   "metadata": {},
   "outputs": [
    {
     "name": "stdout",
     "output_type": "stream",
     "text": [
      "workers:  1  partitions:  1  time [s]:  20.82198476791382\n",
      "workers:  1  partitions:  4  time [s]:  12.760020971298218\n",
      "workers:  1  partitions:  8  time [s]:  11.96391224861145\n",
      "workers:  1  partitions:  12  time [s]:  10.598674535751343\n",
      "workers:  1  partitions:  16  time [s]:  11.29230809211731\n",
      "workers:  2  partitions:  2  time [s]:  13.907085180282593\n",
      "workers:  2  partitions:  8  time [s]:  9.423659801483154\n",
      "workers:  2  partitions:  16  time [s]:  8.737737655639648\n",
      "workers:  2  partitions:  24  time [s]:  8.522927284240723\n",
      "workers:  2  partitions:  32  time [s]:  9.556529760360718\n",
      "workers:  3  partitions:  3  time [s]:  11.563644409179688\n",
      "workers:  3  partitions:  12  time [s]:  8.994723320007324\n",
      "workers:  3  partitions:  24  time [s]:  8.157195806503296\n",
      "workers:  3  partitions:  36  time [s]:  9.168864965438843\n",
      "workers:  3  partitions:  48  time [s]:  8.4654541015625\n",
      "workers:  4  partitions:  4  time [s]:  10.076613187789917\n",
      "workers:  4  partitions:  16  time [s]:  9.592581987380981\n",
      "workers:  4  partitions:  32  time [s]:  8.522793769836426\n",
      "workers:  4  partitions:  48  time [s]:  8.95474886894226\n",
      "workers:  4  partitions:  64  time [s]:  9.820600986480713\n"
     ]
    }
   ],
   "source": [
    "works = [1,2,3,4]\n",
    "parts = [1,4,8,12,16]\n",
    "\n",
    "timings = np.zeros((len(works),len(parts)))\n",
    "\n",
    "for w in range(len(works)):\n",
    "        for p in range(len(parts)):\n",
    "            timings[w][p] = compute_time(works[w],parts[p]*works[w])\n",
    "            print(\"workers: \", works[w], \" partitions: \", parts[p]*works[w], \" time [s]: \", timings[w][p])"
   ]
  },
  {
   "cell_type": "code",
   "execution_count": 27,
   "metadata": {},
   "outputs": [
    {
     "data": {
      "image/png": "[encoded data removed]",
      "text/plain": [
       "<Figure size 504x360 with 2 Axes>"
      ]
     },
     "metadata": {},
     "output_type": "display_data"
    }
   ],
   "source": [
    "import seaborn as sns\n",
    "df_cm = pd.DataFrame(timings.T, parts, works)\n",
    "\n",
    "\n",
    "plt.figure(figsize=(7,5))\n",
    "sns.set(font_scale=1.4) # for label size\n",
    "sns.heatmap(df_cm, annot=True, annot_kws={\"size\": 16},fmt=\".3f\",\n",
    "           cbar_kws={'label':'time[s]'},cmap=\"YlGnBu\")\n",
    "plt.xlabel('Workers',fontsize=16)\n",
    "plt.ylabel('Partitions/Workers',fontsize=16)\n",
    "plt.show()"
   ]
  },
  {
   "cell_type": "markdown",
   "metadata": {},
   "source": [
    "We see from the above mesh that 3 workers and 3 x 8 = 24 Partitions, are found to be optimal and has lesser computation time. We also notice that the number of workers and number of partitions have to be balanced i.e. not too small and not too many for both of them and so workers=3 and partition/workers = 8 looks more balanced and lies in the middle of the computation time grid."
   ]
  }
 ],
 "metadata": {
  "kernelspec": {
   "display_name": "Python 3",
   "language": "python",
   "name": "python3"
  },
  "language_info": {
   "codemirror_mode": {
    "name": "ipython",
    "version": 3
   },
   "file_extension": ".py",
   "mimetype": "text/x-python",
   "name": "python",
   "nbconvert_exporter": "python",
   "pygments_lexer": "ipython3",
   "version": "3.7.1"
  }
 },
 "nbformat": 4,
 "nbformat_minor": 2
}
